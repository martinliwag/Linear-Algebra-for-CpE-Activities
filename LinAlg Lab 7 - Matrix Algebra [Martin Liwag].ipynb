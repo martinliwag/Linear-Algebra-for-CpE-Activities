{
 "cells": [
  {
   "cell_type": "markdown",
   "metadata": {},
   "source": [
    "# Linear Algebra for CpE\n",
    "## Laboratory 7 : Matrix Operations"
   ]
  },
  {
   "cell_type": "markdown",
   "metadata": {},
   "source": [
    "Now that you have a fundamental knowledge about representing and operating with vectors as well as the fundamentals of matrices, we'll try to the same operations with matrices and even more."
   ]
  },
  {
   "cell_type": "markdown",
   "metadata": {},
   "source": [
    "### Objectives\n",
    "At the end of this activity you will be able to:\n",
    "1. Be familiar with the fundamental matrix operations.\n",
    "2. Apply the operations to solve intemrediate equations.\n",
    "3. Apply matrix algebra in engineering solutions."
   ]
  },
  {
   "cell_type": "markdown",
   "metadata": {},
   "source": [
    "## Discussion"
   ]
  },
  {
   "cell_type": "code",
   "execution_count": 37,
   "metadata": {},
   "outputs": [],
   "source": [
    "import numpy as np\n",
    "import matplotlib.pyplot as plt\n",
    "%matplotlib inline"
   ]
  },
  {
   "cell_type": "markdown",
   "metadata": {},
   "source": [
    "## Transposition"
   ]
  },
  {
   "cell_type": "markdown",
   "metadata": {},
   "source": [
    "One of the fundamental operations in matrix algebra is Transposition. The transpose of a matrix is done by flipping the values of its elements over its diagonals. With this, the rows and columns from the original matrix will be switched. So for a matrix $A$ its transpose is denoted as $A^T$. So for example:"
   ]
  },
  {
   "cell_type": "markdown",
   "metadata": {},
   "source": [
    "$$A = \\begin{bmatrix} 1 & 2 & 5\\\\5 & -1 &0 \\\\ 0 & -3 & 3\\end{bmatrix} $$"
   ]
  },
  {
   "cell_type": "markdown",
   "metadata": {},
   "source": [
    "$$ A^T = \\begin{bmatrix} 1 & 5 & 0\\\\2 & -1 &-3 \\\\ 5 & 0 & 3\\end{bmatrix}$$"
   ]
  },
  {
   "cell_type": "markdown",
   "metadata": {},
   "source": [
    "This can now be achieved programmatically by using `np.transpose()` or using the `T` method."
   ]
  },
  {
   "cell_type": "code",
   "execution_count": 3,
   "metadata": {},
   "outputs": [
    {
     "data": {
      "text/plain": [
       "array([[ 1,  2,  5],\n",
       "       [ 5, -1,  0],\n",
       "       [ 0, -3,  3]])"
      ]
     },
     "execution_count": 3,
     "metadata": {},
     "output_type": "execute_result"
    }
   ],
   "source": [
    "A = np.array([\n",
    "    [1 ,2, 5],\n",
    "    [5, -1, 0],\n",
    "    [0, -3, 3]\n",
    "])\n",
    "A"
   ]
  },
  {
   "cell_type": "code",
   "execution_count": 7,
   "metadata": {},
   "outputs": [],
   "source": [
    "AT1 = np.transpose(A)"
   ]
  },
  {
   "cell_type": "code",
   "execution_count": 8,
   "metadata": {},
   "outputs": [],
   "source": [
    "AT2 = A.T"
   ]
  },
  {
   "cell_type": "code",
   "execution_count": 9,
   "metadata": {},
   "outputs": [
    {
     "data": {
      "text/plain": [
       "True"
      ]
     },
     "execution_count": 9,
     "metadata": {},
     "output_type": "execute_result"
    }
   ],
   "source": [
    "np.array_equiv(AT1, AT2)"
   ]
  },
  {
   "cell_type": "code",
   "execution_count": 12,
   "metadata": {},
   "outputs": [
    {
     "data": {
      "text/plain": [
       "(2, 4)"
      ]
     },
     "execution_count": 12,
     "metadata": {},
     "output_type": "execute_result"
    }
   ],
   "source": [
    "B = np.array([\n",
    "    [1,2,3,4],\n",
    "    [1,0,2,1],\n",
    "])\n",
    "B.shape"
   ]
  },
  {
   "cell_type": "code",
   "execution_count": 13,
   "metadata": {},
   "outputs": [
    {
     "data": {
      "text/plain": [
       "(4, 2)"
      ]
     },
     "execution_count": 13,
     "metadata": {},
     "output_type": "execute_result"
    }
   ],
   "source": [
    "np.transpose(B).shape"
   ]
  },
  {
   "cell_type": "code",
   "execution_count": 14,
   "metadata": {},
   "outputs": [
    {
     "data": {
      "text/plain": [
       "(4, 2)"
      ]
     },
     "execution_count": 14,
     "metadata": {},
     "output_type": "execute_result"
    }
   ],
   "source": [
    "B.T.shape"
   ]
  },
  {
   "cell_type": "markdown",
   "metadata": {},
   "source": [
    "#### Try to create your own matrix (you can try non-squares) to test transposition."
   ]
  },
  {
   "cell_type": "code",
   "execution_count": null,
   "metadata": {},
   "outputs": [],
   "source": [
    "## Try out your code here."
   ]
  },
  {
   "cell_type": "markdown",
   "metadata": {},
   "source": [
    "## Dot Product / Inner Product"
   ]
  },
  {
   "cell_type": "markdown",
   "metadata": {},
   "source": [
    "If you recall the dot product from laboratory activity before, we will try to implement the same operation with matrices. In matrix dot product we are going to get the sum of products of the vectors by row-column pairs. So if we have two matrices $X$ and $Y$:\n",
    "\n",
    "$$X = \\begin{bmatrix}x_{(0,0)}&x_{(0,1)}\\\\ x_{(1,0)}&x_{(1,1)}\\end{bmatrix}, Y = \\begin{bmatrix}y_{(0,0)}&y_{(0,1)}\\\\ y_{(1,0)}&y_{(1,1)}\\end{bmatrix}$$\n",
    "\n",
    "The dot product will then be computed as:\n",
    "$$X \\cdot Y= \\begin{bmatrix} x_{(0,0)}*y_{(0,0)} + x_{(0,1)}*y_{(1,0)} & x_{(0,0)}*y_{(0,1)} + x_{(0,1)}*y_{(1,1)} \\\\  x_{(1,0)}*y_{(0,0)} + x_{(1,1)}*y_{(1,0)} & x_{(1,0)}*y_{(0,1)} + x_{(1,1)}*y_{(1,1)}\n",
    "\\end{bmatrix}$$\n",
    "\n",
    "So if we assign values to $X$ and $Y$:\n",
    "$$X = \\begin{bmatrix}1&2\\\\ 0&1\\end{bmatrix}, Y = \\begin{bmatrix}-1&0\\\\ 2&2\\end{bmatrix}$$"
   ]
  },
  {
   "cell_type": "markdown",
   "metadata": {},
   "source": [
    "$$X \\cdot Y= \\begin{bmatrix} 1*-1 + 2*2 & 1*0 + 2*2 \\\\  0*-1 + 1*2 & 0*0 + 1*2 \\end{bmatrix} = \\begin{bmatrix} 3 & 4 \\\\2 & 2 \\end{bmatrix}$$\n",
    "This could be achieved programmatically using `np.dot()`, `np.matmul()` or the `@` operator."
   ]
  },
  {
   "cell_type": "code",
   "execution_count": 15,
   "metadata": {},
   "outputs": [],
   "source": [
    "X = np.array([\n",
    "    [1,2],\n",
    "    [0,1]\n",
    "])\n",
    "Y = np.array([\n",
    "    [-1,0],\n",
    "    [2,2]\n",
    "])"
   ]
  },
  {
   "cell_type": "code",
   "execution_count": 16,
   "metadata": {},
   "outputs": [
    {
     "data": {
      "text/plain": [
       "array([[3, 4],\n",
       "       [2, 2]])"
      ]
     },
     "execution_count": 16,
     "metadata": {},
     "output_type": "execute_result"
    }
   ],
   "source": [
    "np.dot(X,Y)"
   ]
  },
  {
   "cell_type": "code",
   "execution_count": 17,
   "metadata": {},
   "outputs": [
    {
     "data": {
      "text/plain": [
       "array([[3, 4],\n",
       "       [2, 2]])"
      ]
     },
     "execution_count": 17,
     "metadata": {},
     "output_type": "execute_result"
    }
   ],
   "source": [
    "X.dot(Y)"
   ]
  },
  {
   "cell_type": "code",
   "execution_count": 18,
   "metadata": {},
   "outputs": [
    {
     "data": {
      "text/plain": [
       "array([[3, 4],\n",
       "       [2, 2]])"
      ]
     },
     "execution_count": 18,
     "metadata": {},
     "output_type": "execute_result"
    }
   ],
   "source": [
    "X @ Y"
   ]
  },
  {
   "cell_type": "code",
   "execution_count": 19,
   "metadata": {},
   "outputs": [
    {
     "data": {
      "text/plain": [
       "array([[3, 4],\n",
       "       [2, 2]])"
      ]
     },
     "execution_count": 19,
     "metadata": {},
     "output_type": "execute_result"
    }
   ],
   "source": [
    "np.matmul(X,Y)"
   ]
  },
  {
   "cell_type": "markdown",
   "metadata": {},
   "source": [
    "In matrix dot products there are additional rules compared with vector dot products. Since vector dot products were just in one dimension there are less restrictions. Since now we are dealing with Rank 2 vectors we need to consider some rules:\n",
    "\n",
    "### Rule 1: The inner dimensions of the two matrices in question must be the same. \n",
    "\n",
    "So given a matrix $A$ with a shape of $(a,b)$ where $a$ and $b$ are any integers. If we want to do a dot product between $A$ and another matrix $B$, then matrix $B$ should have a shape of $(b,c)$ where $b$ and $c$ are any integers. So for given the following matrices:\n",
    "\n",
    "$$A = \\begin{bmatrix}2&4\\\\5&-2\\\\0&1\\end{bmatrix}, B = \\begin{bmatrix}1&1\\\\3&3\\\\-1&-2\\end{bmatrix}, C = \\begin{bmatrix}0&1&1\\\\1&1&2\\end{bmatrix}$$\n",
    "\n",
    "So in this case $A$ has a shape of $(3,2)$, $B$ has a shape of $(3,2)$ and $C$ has a shape of $(2,3)$. So the only matrix pairs that is eligible to perform dot product is matrices $A \\cdot C$, or $B \\cdot C$.  "
   ]
  },
  {
   "cell_type": "code",
   "execution_count": 20,
   "metadata": {},
   "outputs": [
    {
     "name": "stdout",
     "output_type": "stream",
     "text": [
      "(3, 2)\n",
      "(3, 2)\n",
      "(2, 3)\n"
     ]
    }
   ],
   "source": [
    "A = np.array([\n",
    "    [2, 4],\n",
    "    [5, -2],\n",
    "    [0, 1]\n",
    "])\n",
    "B = np.array([\n",
    "    [1,1],\n",
    "    [3,3],\n",
    "    [-1,-2]\n",
    "])\n",
    "C = np.array([\n",
    "    [0,1,1],\n",
    "    [1,1,2]\n",
    "])\n",
    "print(A.shape)\n",
    "print(B.shape)\n",
    "print(C.shape)"
   ]
  },
  {
   "cell_type": "code",
   "execution_count": 21,
   "metadata": {},
   "outputs": [
    {
     "data": {
      "text/plain": [
       "array([[ 4,  6, 10],\n",
       "       [-2,  3,  1],\n",
       "       [ 1,  1,  2]])"
      ]
     },
     "execution_count": 21,
     "metadata": {},
     "output_type": "execute_result"
    }
   ],
   "source": [
    "A @ C"
   ]
  },
  {
   "cell_type": "code",
   "execution_count": 22,
   "metadata": {},
   "outputs": [
    {
     "data": {
      "text/plain": [
       "array([[ 1,  2,  3],\n",
       "       [ 3,  6,  9],\n",
       "       [-2, -3, -5]])"
      ]
     },
     "execution_count": 22,
     "metadata": {},
     "output_type": "execute_result"
    }
   ],
   "source": [
    "B @ C"
   ]
  },
  {
   "cell_type": "markdown",
   "metadata": {},
   "source": [
    "If you would notice the shape of the dot product changed and its shape is not the same as any of the matrices we used. The shape of a dot product is actually derived from the shapes of the matrices used. So recall matrix $A$ with a shape of $(a,b)$ and matrix $B$ with a shape of $(b,c)$, $A \\cdot B$ should have a shape $(a,c)$."
   ]
  },
  {
   "cell_type": "code",
   "execution_count": 24,
   "metadata": {},
   "outputs": [
    {
     "data": {
      "text/plain": [
       "array([[  6,  18, -10],\n",
       "       [  3,   9,  -1],\n",
       "       [  1,   3,  -2]])"
      ]
     },
     "execution_count": 24,
     "metadata": {},
     "output_type": "execute_result"
    }
   ],
   "source": [
    "A @ B.T"
   ]
  },
  {
   "cell_type": "code",
   "execution_count": 27,
   "metadata": {},
   "outputs": [
    {
     "name": "stdout",
     "output_type": "stream",
     "text": [
      "(1, 4)\n",
      "(1, 4)\n"
     ]
    }
   ],
   "source": [
    "X = np.array([\n",
    "    [1,2,3,0]\n",
    "])\n",
    "Y = np.array([\n",
    "    [1,0,4,-1]\n",
    "])\n",
    "print(X.shape)\n",
    "print(Y.shape)"
   ]
  },
  {
   "cell_type": "code",
   "execution_count": 30,
   "metadata": {},
   "outputs": [
    {
     "data": {
      "text/plain": [
       "array([[ 1,  2,  3,  0],\n",
       "       [ 0,  0,  0,  0],\n",
       "       [ 4,  8, 12,  0],\n",
       "       [-1, -2, -3,  0]])"
      ]
     },
     "execution_count": 30,
     "metadata": {},
     "output_type": "execute_result"
    }
   ],
   "source": [
    "Y.T @ X"
   ]
  },
  {
   "cell_type": "markdown",
   "metadata": {},
   "source": [
    "And youcan see that when you try to multiply A and B, it returns `ValueError` pertaining to matrix shape mismatch."
   ]
  },
  {
   "cell_type": "markdown",
   "metadata": {},
   "source": [
    "### Rule 2: Dot Product has special properties\n",
    "\n",
    "Dot products are prevalent in matrix algebra, this implies that it has several unique properties and it should be considered when formulation solutions:\n",
    " 1. $A \\cdot B \\neq B \\cdot A$\n",
    " 2. $A \\cdot (B \\cdot C) = (A \\cdot B) \\cdot C$\n",
    " 3. $A\\cdot(B+C) = A\\cdot B + A\\cdot C$\n",
    " 4. $(B+C)\\cdot A = B\\cdot A + C\\cdot A$\n",
    " 5. $A\\cdot I = A$\n",
    " 6. $A\\cdot \\emptyset = \\emptyset$ "
   ]
  },
  {
   "cell_type": "markdown",
   "metadata": {},
   "source": [
    "I'll be doing just one of the properties and I'll leave the rest to test your skills!"
   ]
  },
  {
   "cell_type": "code",
   "execution_count": 32,
   "metadata": {},
   "outputs": [],
   "source": [
    "A = np.array([\n",
    "    [3,2,1],\n",
    "    [4,5,1],\n",
    "    [1,1,0]\n",
    "])\n",
    "B = np.array([\n",
    "    [4,1,6],\n",
    "    [4,1,9],\n",
    "    [1,4,8]\n",
    "])\n",
    "C = np.array([\n",
    "    [1,1,0],\n",
    "    [0,1,1],\n",
    "    [1,0,1]\n",
    "])"
   ]
  },
  {
   "cell_type": "code",
   "execution_count": 33,
   "metadata": {},
   "outputs": [
    {
     "data": {
      "text/plain": [
       "array([[0., 0., 0.],\n",
       "       [0., 0., 0.],\n",
       "       [0., 0., 0.]])"
      ]
     },
     "execution_count": 33,
     "metadata": {},
     "output_type": "execute_result"
    }
   ],
   "source": [
    "A.dot(np.zeros(A.shape))"
   ]
  },
  {
   "cell_type": "code",
   "execution_count": 34,
   "metadata": {},
   "outputs": [
    {
     "data": {
      "text/plain": [
       "array([[0., 0., 0.],\n",
       "       [0., 0., 0.],\n",
       "       [0., 0., 0.]])"
      ]
     },
     "execution_count": 34,
     "metadata": {},
     "output_type": "execute_result"
    }
   ],
   "source": [
    "z_mat = np.zeros(A.shape)\n",
    "z_mat"
   ]
  },
  {
   "cell_type": "code",
   "execution_count": 35,
   "metadata": {},
   "outputs": [
    {
     "data": {
      "text/plain": [
       "array([[0., 0., 0.],\n",
       "       [0., 0., 0.],\n",
       "       [0., 0., 0.]])"
      ]
     },
     "execution_count": 35,
     "metadata": {},
     "output_type": "execute_result"
    }
   ],
   "source": [
    "a_dot_z = A.dot(np.zeros(A.shape))\n",
    "a_dot_z"
   ]
  },
  {
   "cell_type": "code",
   "execution_count": 57,
   "metadata": {},
   "outputs": [
    {
     "data": {
      "text/plain": [
       "True"
      ]
     },
     "execution_count": 57,
     "metadata": {},
     "output_type": "execute_result"
    }
   ],
   "source": [
    "np.array_equal(a_dot_z,z_mat)"
   ]
  },
  {
   "cell_type": "code",
   "execution_count": 66,
   "metadata": {},
   "outputs": [
    {
     "name": "stdout",
     "output_type": "stream",
     "text": [
      "[[0. 0. 0.]\n",
      " [0. 0. 0.]\n",
      " [0. 0. 0.]]\n"
     ]
    },
    {
     "data": {
      "text/plain": [
       "True"
      ]
     },
     "execution_count": 66,
     "metadata": {},
     "output_type": "execute_result"
    }
   ],
   "source": [
    "null_mat = np.empty(A.shape, dtype=float)\n",
    "null = np.array(null_mat,dtype=float)\n",
    "print(null)\n",
    "np.allclose(a_dot_z,null)"
   ]
  },
  {
   "cell_type": "markdown",
   "metadata": {},
   "source": [
    "## Determinant"
   ]
  },
  {
   "cell_type": "markdown",
   "metadata": {},
   "source": [
    "A determinant is a scalar value derived from a square matrix. The determinant is a fundamental and important value used in matrix algebra. Although it will not be evident in this laboratory on how it can be used practically, but it will be reatly used in future lessons.\n",
    "\n",
    "The determinant of some matrix $A$ is denoted as $det(A)$ or $|A|$. So let's say $A$ is represented as:\n",
    "$$A = \\begin{bmatrix}a_{(0,0)}&a_{(0,1)}\\\\a_{(1,0)}&a_{(1,1)}\\end{bmatrix}$$\n",
    "We can compute for the determinant as:\n",
    "$$|A| = a_{(0,0)}*a_{(1,1)} - a_{(1,0)}*a_{(0,1)}$$\n",
    "So if we have $A$ as:\n",
    "$$A = \\begin{bmatrix}1&4\\\\0&3\\end{bmatrix}, |A| = 3$$\n",
    "\n",
    "But you might wonder how about square matrices beyond the shape $(2,2)$? We can approach this problem by using several methods such as co-factor expansion and the minors method. This can be taught in the lecture of the laboratory but we can achieve the strenuous computation of high-dimensional matrices programmatically using Python. We can achieve this by using `np.linalg.det()`."
   ]
  },
  {
   "cell_type": "code",
   "execution_count": 67,
   "metadata": {},
   "outputs": [
    {
     "data": {
      "text/plain": [
       "3.0000000000000004"
      ]
     },
     "execution_count": 67,
     "metadata": {},
     "output_type": "execute_result"
    }
   ],
   "source": [
    "A = np.array([\n",
    "    [1,4],\n",
    "    [0,3]\n",
    "])\n",
    "np.linalg.det(A)"
   ]
  },
  {
   "cell_type": "code",
   "execution_count": 68,
   "metadata": {},
   "outputs": [
    {
     "data": {
      "text/plain": [
       "-235.0"
      ]
     },
     "execution_count": 68,
     "metadata": {},
     "output_type": "execute_result"
    }
   ],
   "source": [
    "## Now other mathematics classes would require you to solve this by hand, \n",
    "## and that is great for practicing your memorization and coordination skills \n",
    "## but in this class we aim for simplicity and speed so we'll use programming\n",
    "## but it's completely fine if you want to try to solve this one by hand.\n",
    "B = np.array([\n",
    "    [1,3,5,6],\n",
    "    [0,3,1,3],\n",
    "    [3,1,8,2],\n",
    "    [5,2,6,8]\n",
    "])\n",
    "np.linalg.det(B)"
   ]
  },
  {
   "cell_type": "markdown",
   "metadata": {},
   "source": [
    "## Inverse"
   ]
  },
  {
   "cell_type": "markdown",
   "metadata": {},
   "source": [
    "The inverse of a matrix is another fundamental operation in matrix algebra. Determining the inverse of a matrix let us determine if its solvability and its characteristic as a system of linear equation — we'll expand on this in the nect module. Another use of the inverse matrix is solving the problem of divisibility between matrices. Although element-wise division exists but dividing the entire concept of matrices does not exists. Inverse matrices provides a related operation that could have the same concept of \"dividing\" matrices.\n",
    "\n",
    "Now to determine the inverse of a matrix we need to perform several steps. So let's say we have a matrix $M$:\n",
    "$$M = \\begin{bmatrix}1&7\\\\-3&5\\end{bmatrix}$$\n",
    "First, we need to get the determinant of $M$.\n",
    "$$|M| = (1)(5)-(-3)(7) = 26$$\n",
    "Next, we need to reform the matrix into the inverse form:\n",
    "$$M^{-1} = \\frac{1}{|M|} \\begin{bmatrix} m_{(1,1)} & -m_{(0,1)} \\\\ -m_{(1,0)} & m_{(0,0)}\\end{bmatrix}$$\n",
    "So that will be:\n",
    "$$M^{-1} = \\frac{1}{26} \\begin{bmatrix} 5 & -7 \\\\ 3 & 1\\end{bmatrix} = \\begin{bmatrix} \\frac{5}{26} & \\frac{-7}{26} \\\\ \\frac{3}{26} & \\frac{1}{26}\\end{bmatrix}$$\n",
    "For higher-dimension matrices you might need to use co-factors, minors, adjugates, and other reduction techinques. To solve this programmatially we can use `np.linalg.inv()`."
   ]
  },
  {
   "cell_type": "code",
   "execution_count": 75,
   "metadata": {},
   "outputs": [
    {
     "data": {
      "text/plain": [
       "array([[1, 0],\n",
       "       [0, 1]])"
      ]
     },
     "execution_count": 75,
     "metadata": {},
     "output_type": "execute_result"
    }
   ],
   "source": [
    "M = np.array([\n",
    "    [1,7],\n",
    "    [-3, 5]\n",
    "])\n",
    "\n",
    "np.array(M @ np.linalg.inv(M), dtype=int)"
   ]
  },
  {
   "cell_type": "code",
   "execution_count": 77,
   "metadata": {},
   "outputs": [
    {
     "data": {
      "text/plain": [
       "array([[1, 0, 0, 0, 0, 0, 0],\n",
       "       [0, 1, 0, 0, 0, 0, 0],\n",
       "       [0, 0, 0, 0, 0, 0, 0],\n",
       "       [0, 0, 0, 1, 0, 0, 0],\n",
       "       [0, 0, 0, 0, 1, 0, 0],\n",
       "       [0, 0, 0, 0, 0, 0, 0],\n",
       "       [0, 0, 0, 0, 0, 0, 0]])"
      ]
     },
     "execution_count": 77,
     "metadata": {},
     "output_type": "execute_result"
    }
   ],
   "source": [
    "## And now let's test your skills in solving a matrix with high dimensions:\n",
    "N = np.array([\n",
    "    [18,5,23,1,0,33,5],\n",
    "    [0,45,0,11,2,4,2],\n",
    "    [5,9,20,0,0,0,3],\n",
    "    [1,6,4,4,8,43,1],\n",
    "    [8,6,8,7,1,6,1],\n",
    "    [-5,15,2,0,0,6,-30],\n",
    "    [-2,-5,1,2,1,20,12],\n",
    "])\n",
    "N_inv = np.linalg.inv(N)\n",
    "np.array(N @ N_inv,dtype=int)"
   ]
  },
  {
   "cell_type": "markdown",
   "metadata": {},
   "source": [
    "To validate the wether if the matric that you have solved is really the inverse, we follow this dot product property for a matrix $M$:\n",
    "$$M\\cdot M^{-1} = I$$"
   ]
  },
  {
   "cell_type": "code",
   "execution_count": null,
   "metadata": {},
   "outputs": [],
   "source": [
    "squad = np.array([\n",
    "    [1.0, 1.0, 0.5],\n",
    "    [0.7, 0.7, 0.9],\n",
    "    [0.3, 0.3, 1.0]\n",
    "])\n",
    "weights = np.array([\n",
    "    [0.2, 0.2, 0.6]\n",
    "])\n",
    "p_grade = squad @ weights.T\n",
    "p_grade\n"
   ]
  },
  {
   "cell_type": "markdown",
   "metadata": {},
   "source": [
    "## Activity"
   ]
  },
  {
   "cell_type": "markdown",
   "metadata": {},
   "source": [
    "### Task 1"
   ]
  },
  {
   "cell_type": "markdown",
   "metadata": {},
   "source": [
    "Prove and implement the remaining 6 matrix multiplication properties. You may create your own matrices in which their shapes should not be lower than $(3,3)$.\n",
    "In your methodology, create individual flowcharts for each property and discuss the property you would then present your proofs or validity of your implementation in the results section by comparing your result to present functions from NumPy."
   ]
  },
  {
   "cell_type": "code",
   "execution_count": 36,
   "metadata": {},
   "outputs": [],
   "source": [
    "#Matrices\n",
    "X = np.array([\n",
    "    [9, 3, 7],\n",
    "    [4, 8, 1],\n",
    "    [4, 6, 3]\n",
    "])\n",
    "\n",
    "Y = np.array([\n",
    "    [-2 ,4, 6],\n",
    "    [4, 8, 9],\n",
    "    [2, -1, 5]\n",
    "])\n",
    "\n",
    "Z = np.array([\n",
    "    [0 ,2, 7],\n",
    "    [5, 2, 1],\n",
    "    [2, 7, 2]\n",
    "])\n"
   ]
  },
  {
   "cell_type": "markdown",
   "metadata": {},
   "source": [
    "#### Property 1. $A\\cdot(B+C) = A\\cdot B + A\\cdot C$"
   ]
  },
  {
   "cell_type": "code",
   "execution_count": 13,
   "metadata": {},
   "outputs": [
    {
     "name": "stdout",
     "output_type": "stream",
     "text": [
      "The product of X and Y are:\n",
      " [[8, 53, 116],\n",
      " [26, 79, 101],\n",
      " [22, 61, 93]]\n"
     ]
    }
   ],
   "source": [
    "#Function in X dot Y\n",
    "#first row of matrix\n",
    "xy_zero_by_zero_element = ((X[0,0] * Y[0,0])+(X[0,1] * Y[1,0])+(X[0,2]*Y[2,0]))\n",
    "\n",
    "xy_zero_by_one_element = ((X[0,0] * Y[0,1])+(X[0,1] * Y[1,1])+(X[0,2]*Y[2,1]))\n",
    "\n",
    "xy_zero_by_two_element = ((X[0,0] * Y[0,2])+(X[0,1] * Y[1,2])+(X[0,2]*Y[2,2]))\n",
    "\n",
    "\n",
    "#second row of matrix \n",
    "xy_one_by_zero_element = ((X[1,0] * Y[0,0])+(X[1,1] * Y[1,0])+(X[1,2]*Y[2,0]))\n",
    "\n",
    "xy_one_by_one_element = ((X[1,0] * Y[0,1])+(X[1,1] * Y[1,1])+(X[1,2]*Y[2,1]))\n",
    "\n",
    "xy_one_by_two_element = ((X[1,0] * Y[0,2])+(X[1,1] * Y[1,2])+(X[1,2]*Y[2,2]))\n",
    "\n",
    "\n",
    "#third row of matrix\n",
    "xy_two_by_zero_element = ((X[2,0] * Y[0,0])+(X[2,1] * Y[1,0])+(X[2,2]*Y[2,0]))\n",
    "\n",
    "xy_two_by_one_element = ((X[2,0] * Y[0,1])+(X[2,1] * Y[1,1])+(X[2,2]*Y[2,1]))\n",
    "\n",
    "xy_two_by_two_element = ((X[2,0] * Y[0,2])+(X[2,1] * Y[1,2])+(X[2,2]*Y[2,2]))\n",
    "\n",
    "\n",
    "print(f'The product of X and Y are:\\n [{[xy_zero_by_zero_element, xy_zero_by_one_element, xy_zero_by_two_element]},\\n {[xy_one_by_zero_element, xy_one_by_one_element, xy_one_by_two_element]},\\n {[xy_two_by_zero_element, xy_two_by_one_element, xy_two_by_two_element]}]')"
   ]
  },
  {
   "cell_type": "code",
   "execution_count": 14,
   "metadata": {},
   "outputs": [
    {
     "data": {
      "text/plain": [
       "array([[  8,  53, 116],\n",
       "       [ 26,  79, 101],\n",
       "       [ 22,  61,  93]])"
      ]
     },
     "execution_count": 14,
     "metadata": {},
     "output_type": "execute_result"
    }
   ],
   "source": [
    "np.dot(X,Y)"
   ]
  },
  {
   "cell_type": "code",
   "execution_count": 15,
   "metadata": {},
   "outputs": [
    {
     "name": "stdout",
     "output_type": "stream",
     "text": [
      "The product of X and Y are:\n",
      " [[22, 62, 8],\n",
      " [104, 130, 63],\n",
      " [34, 28, 28]]\n"
     ]
    }
   ],
   "source": [
    "#Function in Y dot X\n",
    "#first row of matrix\n",
    "yx_zero_by_zero_element = ((Y[0,0] * X[0,0])+(Y[0,1] * X[1,0])+(Y[0,2]*X[2,0]))\n",
    "\n",
    "yx_zero_by_one_element = ((Y[0,0] * X[0,1])+(Y[0,1] * X[1,1])+(Y[0,2]*X[2,1]))\n",
    "\n",
    "yx_zero_by_two_element = ((Y[0,0] * X[0,2])+(Y[0,1] * X[1,2])+(Y[0,2]*X[2,2]))\n",
    "\n",
    "#second row of matrix \n",
    "yx_one_by_zero_element = ((Y[1,0] * X[0,0])+(Y[1,1] * X[1,0])+(Y[1,2]*X[2,0]))\n",
    "\n",
    "yx_one_by_one_element = ((Y[1,0] * X[0,1])+(Y[1,1] * X[1,1])+(Y[1,2]*X[2,1]))\n",
    "\n",
    "yx_one_by_two_element = ((Y[1,0] * X[0,2])+(Y[1,1] * X[1,2])+(Y[1,2]*X[2,2]))\n",
    "\n",
    "#third row of matrix\n",
    "yx_two_by_zero_element = ((Y[2,0] * X[0,0])+(Y[2,1] * X[1,0])+(Y[2,2]*X[2,0]))\n",
    "\n",
    "yx_two_by_one_element = ((Y[2,0] * X[0,1])+(Y[2,1] * X[1,1])+(Y[2,2]*X[2,1]))\n",
    "\n",
    "yx_two_by_two_element = ((Y[2,0] * X[0,2])+(Y[2,1] * X[1,2])+(Y[2,2]*X[2,2]))\n",
    "\n",
    "\n",
    "print(f'The product of X and Y are:\\n [{[yx_zero_by_zero_element, yx_zero_by_one_element, yx_zero_by_two_element]},\\n {[yx_one_by_zero_element, yx_one_by_one_element, yx_one_by_two_element]},\\n {[yx_two_by_zero_element, yx_two_by_one_element, yx_two_by_two_element]}]')"
   ]
  },
  {
   "cell_type": "code",
   "execution_count": 16,
   "metadata": {},
   "outputs": [
    {
     "data": {
      "text/plain": [
       "array([[  8,  53, 116],\n",
       "       [ 26,  79, 101],\n",
       "       [ 22,  61,  93]])"
      ]
     },
     "execution_count": 16,
     "metadata": {},
     "output_type": "execute_result"
    }
   ],
   "source": [
    "np.dot(X,Y)"
   ]
  },
  {
   "cell_type": "code",
   "execution_count": 17,
   "metadata": {},
   "outputs": [
    {
     "data": {
      "text/plain": [
       "array([[False, False, False],\n",
       "       [False, False, False],\n",
       "       [False, False, False]])"
      ]
     },
     "execution_count": 17,
     "metadata": {},
     "output_type": "execute_result"
    }
   ],
   "source": [
    "np.dot(X,Y) == np.dot(Y,X)"
   ]
  },
  {
   "cell_type": "markdown",
   "metadata": {},
   "source": [
    "#### Property 2. $A \\cdot (B \\cdot C) = (A \\cdot B) \\cdot C$"
   ]
  },
  {
   "cell_type": "code",
   "execution_count": 18,
   "metadata": {},
   "outputs": [
    {
     "name": "stdout",
     "output_type": "stream",
     "text": [
      "The product of X and Y are:\n",
      " [[497, 934, 341],\n",
      " [597, 917, 463],\n",
      " [491, 817, 401]]\n"
     ]
    }
   ],
   "source": [
    "#Function in X dot (Y dot Z)\n",
    "#first row of array \n",
    "yzx_zero_by_zero_element = ((xy_zero_by_zero_element * Z[0,0])+(xy_zero_by_one_element * Z[1,0])+(xy_zero_by_two_element *Z[2,0]))\n",
    "\n",
    "yzx_zero_by_one_element = ((xy_zero_by_zero_element * Z[0,1])+(xy_zero_by_one_element * Z[1,1])+(xy_zero_by_two_element *Z[2,1]))\n",
    "\n",
    "yzx_zero_by_two_element = ((xy_zero_by_zero_element * Z[0,2])+(xy_zero_by_one_element  * Z[1,2])+(xy_zero_by_two_element *Z[2,2]))\n",
    "\n",
    "#second row of array \n",
    "yzx_one_by_zero_element = ((xy_one_by_zero_element * Z[0,0])+(xy_one_by_one_element * Z[1,0])+(xy_one_by_two_element *Z[2,0]))\n",
    "\n",
    "yzx_one_by_one_element = ((xy_one_by_zero_element * Z[0,1])+(xy_one_by_one_element * Z[1,1])+(xy_one_by_two_element *Z[2,1]))\n",
    "\n",
    "yzx_one_by_two_element = ((xy_one_by_zero_element * Z[0,2])+(xy_one_by_one_element * Z[1,2])+(xy_one_by_two_element *Z[2,2]))\n",
    "\n",
    "\n",
    "#third row of array\n",
    "yzx_two_by_zero_element = ((xy_two_by_zero_element * Z[0,0])+(xy_two_by_one_element * Z[1,0])+(xy_two_by_two_element *Z[2,0]))\n",
    "\n",
    "yzx_two_by_one_element = ((xy_two_by_zero_element * Z[0,1])+(xy_two_by_one_element * Z[1,1])+(xy_two_by_two_element *Z[2,1]))\n",
    "\n",
    "yzx_two_by_two_element = ((xy_two_by_zero_element * Z[0,2])+(xy_two_by_one_element * Z[1,2])+(xy_two_by_two_element *Z[2,2]))\n",
    "\n",
    "\n",
    "print(f'The product of X and Y are:\\n [{[yzx_zero_by_zero_element, yzx_zero_by_one_element, yzx_zero_by_two_element]},\\n {[yzx_one_by_zero_element, yzx_one_by_one_element, yzx_one_by_two_element]},\\n {[yzx_two_by_zero_element, yzx_two_by_one_element, yzx_two_by_two_element]}]')"
   ]
  },
  {
   "cell_type": "code",
   "execution_count": 19,
   "metadata": {},
   "outputs": [
    {
     "data": {
      "text/plain": [
       "array([[497, 934, 341],\n",
       "       [597, 917, 463],\n",
       "       [491, 817, 401]])"
      ]
     },
     "execution_count": 19,
     "metadata": {},
     "output_type": "execute_result"
    }
   ],
   "source": [
    "X @ (Y @ Z)"
   ]
  },
  {
   "cell_type": "code",
   "execution_count": 21,
   "metadata": {},
   "outputs": [
    {
     "name": "stdout",
     "output_type": "stream",
     "text": [
      "The product of X and Y are:\n",
      " [[497, 934, 341],\n",
      " [597, 917, 463],\n",
      " [491, 817, 401]]\n"
     ]
    }
   ],
   "source": [
    "#Function in X dot (Y dot Z)\n",
    "#first row of array \n",
    "xyz_zero_by_zero_element = ((xy_zero_by_zero_element * Z[0,0])+(xy_zero_by_one_element * Z[1,0])+(xy_zero_by_two_element *Z[2,0]))\n",
    "\n",
    "xyz_zero_by_one_element = ((xy_zero_by_zero_element * Z[0,1])+(xy_zero_by_one_element * Z[1,1])+(xy_zero_by_two_element *Z[2,1]))\n",
    "\n",
    "xyz_zero_by_two_element = ((xy_zero_by_zero_element * Z[0,2])+(xy_zero_by_one_element  * Z[1,2])+(xy_zero_by_two_element *Z[2,2]))\n",
    "\n",
    "#second row of array \n",
    "xyz_one_by_zero_element = ((xy_one_by_zero_element * Z[0,0])+(xy_one_by_one_element * Z[1,0])+(xy_one_by_two_element *Z[2,0]))\n",
    "\n",
    "xyz_one_by_one_element = ((xy_one_by_zero_element * Z[0,1])+(xy_one_by_one_element * Z[1,1])+(xy_one_by_two_element *Z[2,1]))\n",
    "\n",
    "xyz_one_by_two_element = ((xy_one_by_zero_element * Z[0,2])+(xy_one_by_one_element * Z[1,2])+(xy_one_by_two_element *Z[2,2]))\n",
    "\n",
    "\n",
    "#third row of array\n",
    "xyz_two_by_zero_element = ((xy_two_by_zero_element * Z[0,0])+(xy_two_by_one_element * Z[1,0])+(xy_two_by_two_element *Z[2,0]))\n",
    "\n",
    "xyz_two_by_one_element = ((xy_two_by_zero_element * Z[0,1])+(xy_two_by_one_element * Z[1,1])+(xy_two_by_two_element *Z[2,1]))\n",
    "\n",
    "xyz_two_by_two_element = ((xy_two_by_zero_element * Z[0,2])+(xy_two_by_one_element * Z[1,2])+(xy_two_by_two_element *Z[2,2]))\n",
    "\n",
    "\n",
    "print(f'The product of X and Y are:\\n [{[xyz_zero_by_zero_element, xyz_zero_by_one_element, xyz_zero_by_two_element]},\\n {[xyz_one_by_zero_element, xyz_one_by_one_element, xyz_one_by_two_element]},\\n {[xyz_two_by_zero_element, xyz_two_by_one_element, xyz_two_by_two_element]}]')"
   ]
  },
  {
   "cell_type": "code",
   "execution_count": 22,
   "metadata": {},
   "outputs": [
    {
     "data": {
      "text/plain": [
       "array([[497, 934, 341],\n",
       "       [597, 917, 463],\n",
       "       [491, 817, 401]])"
      ]
     },
     "execution_count": 22,
     "metadata": {},
     "output_type": "execute_result"
    }
   ],
   "source": [
    "(X @ Y) @ Z"
   ]
  },
  {
   "cell_type": "code",
   "execution_count": 23,
   "metadata": {},
   "outputs": [
    {
     "data": {
      "text/plain": [
       "array([[ True,  True,  True],\n",
       "       [ True,  True,  True],\n",
       "       [ True,  True,  True]])"
      ]
     },
     "execution_count": 23,
     "metadata": {},
     "output_type": "execute_result"
    }
   ],
   "source": [
    "X @ (Y @ Z) == (X @ Y) @ Z"
   ]
  },
  {
   "cell_type": "markdown",
   "metadata": {},
   "source": [
    "#### Property 3. $A\\cdot(B+C) = A\\cdot B + A\\cdot C$"
   ]
  },
  {
   "cell_type": "code",
   "execution_count": 30,
   "metadata": {},
   "outputs": [
    {
     "name": "stdout",
     "output_type": "stream",
     "text": [
      "The sum of Y and Z are:\n",
      "[[-2  6 13]\n",
      " [ 9 10 10]\n",
      " [ 4  6  7]]\n",
      "The product of X and V are:\n",
      " [[37, 126, 196],\n",
      " [68, 110, 139],\n",
      " [58, 102, 133]]\n"
     ]
    }
   ],
   "source": [
    "V = Y+Z\n",
    "print(f'The sum of Y and Z are:\\n{V}')\n",
    "\n",
    "#first row of array \n",
    "xv_zero_by_zero_element = ((X[0,0] * V[0,0])+(X[0,1] * V[1,0])+(X[0,2]*V[2,0]))\n",
    "\n",
    "xv_zero_by_one_element = ((X[0,0] * V[0,1])+(X[0,1] * V[1,1])+(X[0,2]*V[2,1]))\n",
    "\n",
    "xv_zero_by_two_element = ((X[0,0] * V[0,2])+(X[0,1] * V[1,2])+(X[0,2]*V[2,2]))\n",
    "\n",
    "\n",
    "#second row of array \n",
    "xv_one_by_zero_element = ((X[1,0] * V[0,0])+(X[1,1] * V[1,0])+(X[1,2]*V[2,0]))\n",
    "\n",
    "xv_one_by_one_element = ((X[1,0] * V[0,1])+(X[1,1] * V[1,1])+(X[1,2]*V[2,1]))\n",
    "\n",
    "xv_one_by_two_element = ((X[1,0] * V[0,2])+(X[1,1] * V[1,2])+(X[1,2]*V[2,2]))\n",
    "\n",
    "\n",
    "#third row of array\n",
    "xv_two_by_zero_element = ((X[2,0] * V[0,0])+(X[2,1] * V[1,0])+(X[2,2]*V[2,0]))\n",
    "\n",
    "xv_two_by_one_element = ((X[2,0] * V[0,1])+(X[2,1] * V[1,1])+(X[2,2]*V[2,1]))\n",
    "\n",
    "xv_two_by_two_element = ((X[2,0] * V[0,2])+(X[2,1] * V[1,2])+(X[2,2]*V[2,2]))\n",
    "\n",
    "\n",
    "print(f'The product of X and V are:\\n [{[xv_zero_by_zero_element, xv_zero_by_one_element, xv_zero_by_two_element]},\\n {[xv_one_by_zero_element, xv_one_by_one_element, xv_one_by_two_element]},\\n {[xv_two_by_zero_element, xv_two_by_one_element, xv_two_by_two_element]}]')"
   ]
  },
  {
   "cell_type": "code",
   "execution_count": 25,
   "metadata": {},
   "outputs": [
    {
     "data": {
      "text/plain": [
       "array([[ 37, 126, 196],\n",
       "       [ 68, 110, 139],\n",
       "       [ 58, 102, 133]])"
      ]
     },
     "execution_count": 25,
     "metadata": {},
     "output_type": "execute_result"
    }
   ],
   "source": [
    "X @ (Y+Z)"
   ]
  },
  {
   "cell_type": "code",
   "execution_count": 31,
   "metadata": {},
   "outputs": [
    {
     "name": "stdout",
     "output_type": "stream",
     "text": [
      "The product of X and Y are:\n",
      " [[8, 53, 116],\n",
      " [26, 79, 101],\n",
      " [22, 61, 93]]\n",
      "The product of X and Z are:\n",
      " [[29, 73, 80],\n",
      " [42, 31, 38],\n",
      " [36, 41, 40]]\n",
      "Overall are:\n",
      " [[37, 126, 196],\n",
      " [68, 110, 139],\n",
      " [58, 102, 101]]\n"
     ]
    }
   ],
   "source": [
    "#Product of X and Y \n",
    "#first row of array \n",
    "xy_zero_by_zero_element = ((X[0,0] * Y[0,0])+(X[0,1] * Y[1,0])+(X[0,2]*Y[2,0]))\n",
    "\n",
    "xy_zero_by_one_element = ((X[0,0] * Y[0,1])+(X[0,1] * Y[1,1])+(X[0,2]*Y[2,1]))\n",
    "\n",
    "xy_zero_by_two_element = ((X[0,0] * Y[0,2])+(X[0,1] * Y[1,2])+(X[0,2]*Y[2,2]))\n",
    "\n",
    "\n",
    "#second row of array \n",
    "xy_one_by_zero_element = ((X[1,0] * Y[0,0])+(X[1,1] * Y[1,0])+(X[1,2]*Y[2,0]))\n",
    "\n",
    "xy_one_by_one_element = ((X[1,0] * Y[0,1])+(X[1,1] * Y[1,1])+(X[1,2]*Y[2,1]))\n",
    "\n",
    "xy_one_by_two_element = ((X[1,0] * Y[0,2])+(X[1,1] * Y[1,2])+(X[1,2]*Y[2,2]))\n",
    "\n",
    "\n",
    "#third row of array\n",
    "xy_two_by_zero_element = ((X[2,0] * Y[0,0])+(X[2,1] * Y[1,0])+(X[2,2]*Y[2,0]))\n",
    "\n",
    "xy_two_by_one_element = ((X[2,0] * Y[0,1])+(X[2,1] * Y[1,1])+(X[2,2]*Y[2,1]))\n",
    "\n",
    "xy_two_by_two_element = ((X[2,0] * Y[0,2])+(X[2,1] * Y[1,2])+(X[2,2]*Y[2,2]))\n",
    "\n",
    "print(f'The product of X and Y are:\\n [{[xy_zero_by_zero_element, xy_zero_by_one_element, xy_zero_by_two_element]},\\n {[xy_one_by_zero_element, xy_one_by_one_element, xy_one_by_two_element]},\\n {[xy_two_by_zero_element, xy_two_by_one_element, xy_two_by_two_element]}]')\n",
    "\n",
    "#Product of X and Z\n",
    "#first row of array \n",
    "xz_zero_by_zero_element = ((X[0,0] * Z[0,0])+(X[0,1] * Z[1,0])+(X[0,2]*Z[2,0]))\n",
    "\n",
    "xz_zero_by_one_element = ((X[0,0] * Z[0,1])+(X[0,1] * Z[1,1])+(X[0,2]*Z[2,1]))\n",
    "\n",
    "xz_zero_by_two_element = ((X[0,0] * Z[0,2])+(X[0,1] * Z[1,2])+(X[0,2]*Z[2,2]))\n",
    "\n",
    "\n",
    "#second row of array \n",
    "xz_one_by_zero_element = ((X[1,0] * Z[0,0])+(X[1,1] * Z[1,0])+(X[1,2]*Z[2,0]))\n",
    "\n",
    "xz_one_by_one_element = ((X[1,0] * Z[0,1])+(X[1,1] * Z[1,1])+(X[1,2]*Z[2,1]))\n",
    "\n",
    "xz_one_by_two_element = ((X[1,0] * Z[0,2])+(X[1,1] * Z[1,2])+(X[1,2]*Z[2,2]))\n",
    "\n",
    "\n",
    "#third row of array\n",
    "xz_two_by_zero_element = ((X[2,0] * Z[0,0])+(X[2,1] * Z[1,0])+(X[2,2]*Z[2,0]))\n",
    "\n",
    "xz_two_by_one_element = ((X[2,0] * Z[0,1])+(X[2,1] * Z[1,1])+(X[2,2]*Z[2,1]))\n",
    "\n",
    "xz_two_by_two_element = ((X[2,0] * Z[0,2])+(X[2,1] * Z[1,2])+(X[2,2]*Z[2,2]))\n",
    "\n",
    "\n",
    "print(f'The product of X and Z are:\\n [{[xz_zero_by_zero_element, xz_zero_by_one_element, xz_zero_by_two_element]},\\n {[xz_one_by_zero_element, xz_one_by_one_element, xz_one_by_two_element]},\\n {[xz_two_by_zero_element, xz_two_by_one_element, xz_two_by_two_element]}]')\n",
    "\n",
    "#For the sum\n",
    "sum_one = xy_zero_by_zero_element + xz_zero_by_zero_element\n",
    "sum_two = xy_zero_by_one_element + xz_zero_by_one_element\n",
    "sum_three = xy_zero_by_two_element + xz_zero_by_two_element\n",
    "sum_four = xy_one_by_zero_element + xz_one_by_zero_element\n",
    "sum_five = xy_one_by_one_element + xz_one_by_one_element\n",
    "sum_six = xy_one_by_two_element + xz_one_by_two_element\n",
    "sum_seven = xy_two_by_zero_element + xz_two_by_zero_element\n",
    "sum_eight = xy_two_by_one_element + xz_two_by_one_element\n",
    "sum_nine = xy_two_by_one_element + xz_two_by_two_element\n",
    "\n",
    "print(f'Overall are:\\n [{[sum_one, sum_two, sum_three]},\\n {[sum_four, sum_five, sum_six]},\\n {[sum_seven, sum_eight, sum_nine]}]')"
   ]
  },
  {
   "cell_type": "code",
   "execution_count": 27,
   "metadata": {},
   "outputs": [
    {
     "data": {
      "text/plain": [
       "array([[ 37, 126, 196],\n",
       "       [ 68, 110, 139],\n",
       "       [ 58, 102, 133]])"
      ]
     },
     "execution_count": 27,
     "metadata": {},
     "output_type": "execute_result"
    }
   ],
   "source": [
    "X@Y + X@Z"
   ]
  },
  {
   "cell_type": "code",
   "execution_count": 28,
   "metadata": {},
   "outputs": [
    {
     "data": {
      "text/plain": [
       "array([[ True,  True,  True],\n",
       "       [ True,  True,  True],\n",
       "       [ True,  True,  True]])"
      ]
     },
     "execution_count": 28,
     "metadata": {},
     "output_type": "execute_result"
    }
   ],
   "source": [
    "(X @ (Y+Z)) == (X@Y + X@Z)"
   ]
  },
  {
   "cell_type": "markdown",
   "metadata": {},
   "source": [
    "#### Property 4. $(B+C)\\cdot A = B\\cdot A + C\\cdot A$"
   ]
  },
  {
   "cell_type": "code",
   "execution_count": 32,
   "metadata": {},
   "outputs": [
    {
     "name": "stdout",
     "output_type": "stream",
     "text": [
      "The sum of Y and Z are:\n",
      "[[-2  6 13]\n",
      " [ 9 10 10]\n",
      " [ 4  6  7]]\n",
      "The product of W and x are:\n",
      " [[42, 88, 27],\n",
      " [129, 103, 95],\n",
      " [72, 80, 41]]\n"
     ]
    }
   ],
   "source": [
    "W = Y+Z\n",
    "print(f'The sum of Y and Z are:\\n{V}')\n",
    "\n",
    "#first row of array \n",
    "wx_zero_by_zero_element = ((W[0,0] * X[0,0])+(Z[0,1] * X[1,0])+(W[0,2]*X[2,0]))\n",
    "\n",
    "wx_zero_by_one_element = ((W[0,0] * X[0,1])+(Z[0,1] * X[1,1])+(W[0,2]*X[2,1]))\n",
    "\n",
    "wx_zero_by_two_element = ((W[0,0] * X[0,2])+(Z[0,1] * X[1,2])+(W[0,2]*X[2,2]))\n",
    "\n",
    "\n",
    "#second row of array \n",
    "wx_one_by_zero_element = ((W[1,0] * X[0,0])+(Z[1,1] * X[1,0])+(W[1,2]*X[2,0]))\n",
    "\n",
    "wx_one_by_one_element = ((W[1,0] * X[0,1])+(Z[1,1] * X[1,1])+(W[1,2]*X[2,1]))\n",
    "\n",
    "wx_one_by_two_element = ((W[1,0] * X[0,2])+(Z[1,1] * X[1,2])+(W[1,2]*X[2,2]))\n",
    "\n",
    "\n",
    "#third row of array\n",
    "wx_two_by_zero_element = ((W[2,0] * X[0,0])+(Z[2,1] * X[1,0])+(Z[2,2]*X[2,0]))\n",
    "\n",
    "wx_two_by_one_element = ((W[2,0] * X[0,1])+(Z[2,1] * X[1,1])+(Z[2,2]*X[2,1]))\n",
    "\n",
    "wx_two_by_two_element = ((W[2,0] * X[0,2])+(Z[2,1] * X[1,2])+(Z[2,2]*X[2,2]))\n",
    "\n",
    "\n",
    "print(f'The product of W and x are:\\n [{[wx_zero_by_zero_element, wx_zero_by_one_element, wx_zero_by_two_element]},\\n {[wx_one_by_zero_element, wx_one_by_one_element, wx_one_by_two_element]},\\n {[wx_two_by_zero_element, wx_two_by_one_element, wx_two_by_two_element]}]')"
   ]
  },
  {
   "cell_type": "code",
   "execution_count": 33,
   "metadata": {},
   "outputs": [
    {
     "data": {
      "text/plain": [
       "array([[ 58, 120,  31],\n",
       "       [161, 167, 103],\n",
       "       [ 88, 102,  55]])"
      ]
     },
     "execution_count": 33,
     "metadata": {},
     "output_type": "execute_result"
    }
   ],
   "source": [
    "(Y+Z) @ X"
   ]
  },
  {
   "cell_type": "code",
   "execution_count": 39,
   "metadata": {},
   "outputs": [
    {
     "name": "stdout",
     "output_type": "stream",
     "text": [
      "The product of Y and X are:\n",
      " [[22, 54, 7],\n",
      " [104, 130, 63],\n",
      " [34, 28, 28]]\n",
      "The product of Z and X are:\n",
      " [[36, 58, 23],\n",
      " [57, 37, 40],\n",
      " [54, 74, 27]]\n",
      "Overall are:\n",
      " [[58, 112, 30],\n",
      " [161, 167, 103],\n",
      " [88, 102, 55]]\n"
     ]
    }
   ],
   "source": [
    "#Product of Y and X \n",
    "#first row of array \n",
    "yx_zero_by_zero_element = ((Y[0,0] * X[0,0])+(Y[0,1] * X[1,0])+(Y[0,2]*X[2,0]))\n",
    "\n",
    "yx_zero_by_one_element = ((Y[0,0] * X[0,1])+(X[0,1] * X[1,1])+(Y[0,2]*X[2,1]))\n",
    "\n",
    "yx_zero_by_two_element = ((Y[0,0] * X[0,2])+(X[0,1] * X[1,2])+(Y[0,2]*X[2,2]))\n",
    "\n",
    "\n",
    "#second row of array \n",
    "yx_one_by_zero_element = ((Y[1,0] * X[0,0])+(Y[1,1] * X[1,0])+(Y[1,2]*X[2,0]))\n",
    "\n",
    "yx_one_by_one_element = ((Y[1,0] * X[0,1])+(Y[1,1] * X[1,1])+(Y[1,2]*X[2,1]))\n",
    "\n",
    "yx_one_by_two_element = ((Y[1,0] * X[0,2])+(Y[1,1] * X[1,2])+(Y[1,2]*X[2,2]))\n",
    "\n",
    "\n",
    "#third row of array\n",
    "yx_two_by_zero_element = ((Y[2,0] * X[0,0])+(Y[2,1] * X[1,0])+(Y[2,2]*X[2,0]))\n",
    "\n",
    "yx_two_by_one_element = ((Y[2,0] * X[0,1])+(Y[2,1] * X[1,1])+(Y[2,2]*X[2,1]))\n",
    "\n",
    "yx_two_by_two_element = ((Y[2,0] * X[0,2])+(Y[2,1] * X[1,2])+(Y[2,2]*X[2,2]))\n",
    "\n",
    "print(f'The product of Y and X are:\\n [{[yx_zero_by_zero_element, yx_zero_by_one_element, yx_zero_by_two_element]},\\n {[yx_one_by_zero_element, yx_one_by_one_element, yx_one_by_two_element]},\\n {[yx_two_by_zero_element, yx_two_by_one_element, yx_two_by_two_element]}]')\n",
    "\n",
    "#Product of Z and X\n",
    "#first row of array \n",
    "zx_zero_by_zero_element = ((Z[0,0] * X[0,0])+(Z[0,1] * X[1,0])+(Z[0,2]*X[2,0]))\n",
    "\n",
    "zx_zero_by_one_element = ((Z[0,0] * X[0,1])+(Z[0,1] * X[1,1])+(Z[0,2]*X[2,1]))\n",
    "\n",
    "zx_zero_by_two_element = ((Z[0,0] * X[0,2])+(Z[0,1] * X[1,2])+(Z[0,2]*X[2,2]))\n",
    "\n",
    "\n",
    "#second row of array \n",
    "zx_one_by_zero_element = ((Z[1,0] * X[0,0])+(Z[1,1] * X[1,0])+(Z[1,2]*X[2,0]))\n",
    "\n",
    "zx_one_by_one_element = ((Z[1,0] * X[0,1])+(Z[1,1] * X[1,1])+(Z[1,2]*X[2,1]))\n",
    "\n",
    "zx_one_by_two_element = ((Z[1,0] * X[0,2])+(Z[1,1] * X[1,2])+(Z[1,2]*X[2,2]))\n",
    "\n",
    "\n",
    "#third row of array\n",
    "zx_two_by_zero_element = ((Z[2,0] * X[0,0])+(Z[2,1] * X[1,0])+(Z[2,2]*X[2,0]))\n",
    "\n",
    "zx_two_by_one_element = ((Z[2,0] * X[0,1])+(Z[2,1] * X[1,1])+(Z[2,2]*X[2,1]))\n",
    "\n",
    "zx_two_by_two_element = ((Z[2,0] * X[0,2])+(Z[2,1] * X[1,2])+(Z[2,2]*X[2,2]))\n",
    "\n",
    "\n",
    "print(f'The product of Z and X are:\\n [{[zx_zero_by_zero_element, zx_zero_by_one_element, zx_zero_by_two_element]},\\n {[zx_one_by_zero_element, zx_one_by_one_element, zx_one_by_two_element]},\\n {[zx_two_by_zero_element, zx_two_by_one_element, zx_two_by_two_element]}]')\n",
    "\n",
    "#For the sum\n",
    "sum_one = yx_zero_by_zero_element + zx_zero_by_zero_element\n",
    "sum_two = yx_zero_by_one_element + xz_zero_by_one_element\n",
    "sum_three = yx_zero_by_two_element + zx_zero_by_two_element\n",
    "sum_four = yx_one_by_zero_element + zx_one_by_zero_element\n",
    "sum_five = yx_one_by_one_element + zx_one_by_one_element\n",
    "sum_six = yx_one_by_two_element + zx_one_by_two_element\n",
    "sum_seven = yx_two_by_zero_element + zx_two_by_zero_element\n",
    "sum_eight = yx_two_by_one_element + zx_two_by_one_element\n",
    "sum_nine = yx_two_by_one_element + zx_two_by_two_element\n",
    "\n",
    "print(f'Overall are:\\n [{[sum_one, sum_two, sum_three]},\\n {[sum_four, sum_five, sum_six]},\\n {[sum_seven, sum_eight, sum_nine]}]')"
   ]
  },
  {
   "cell_type": "code",
   "execution_count": 40,
   "metadata": {},
   "outputs": [
    {
     "data": {
      "text/plain": [
       "array([[ 58, 120,  31],\n",
       "       [161, 167, 103],\n",
       "       [ 88, 102,  55]])"
      ]
     },
     "execution_count": 40,
     "metadata": {},
     "output_type": "execute_result"
    }
   ],
   "source": [
    "Y@X + Z@X"
   ]
  },
  {
   "cell_type": "code",
   "execution_count": 41,
   "metadata": {},
   "outputs": [
    {
     "data": {
      "text/plain": [
       "array([[ True,  True,  True],\n",
       "       [ True,  True,  True],\n",
       "       [ True,  True,  True]])"
      ]
     },
     "execution_count": 41,
     "metadata": {},
     "output_type": "execute_result"
    }
   ],
   "source": [
    "(Y+Z) @ X  == Y@X + Z@X"
   ]
  },
  {
   "cell_type": "markdown",
   "metadata": {},
   "source": [
    "#### Property 5.  $A\\cdot I = A$"
   ]
  },
  {
   "cell_type": "code",
   "execution_count": 42,
   "metadata": {},
   "outputs": [
    {
     "data": {
      "text/plain": [
       "array([[9, 3, 7],\n",
       "       [4, 8, 1],\n",
       "       [4, 6, 3]])"
      ]
     },
     "execution_count": 42,
     "metadata": {},
     "output_type": "execute_result"
    }
   ],
   "source": [
    "X"
   ]
  },
  {
   "cell_type": "code",
   "execution_count": 43,
   "metadata": {},
   "outputs": [
    {
     "data": {
      "text/plain": [
       "array([[1., 0., 0.],\n",
       "       [0., 1., 0.],\n",
       "       [0., 0., 1.]])"
      ]
     },
     "execution_count": 43,
     "metadata": {},
     "output_type": "execute_result"
    }
   ],
   "source": [
    "np.eye(3)"
   ]
  },
  {
   "cell_type": "code",
   "execution_count": 44,
   "metadata": {},
   "outputs": [
    {
     "name": "stdout",
     "output_type": "stream",
     "text": [
      "The product of X and I are:\n",
      " [[9.0, 3.0, 7.0],\n",
      " [4.0, 8.0, 1.0],\n",
      " [4.0, 6.0, 3.0]]\n"
     ]
    }
   ],
   "source": [
    "#For X at I\n",
    "U = np.eye(3)\n",
    "\n",
    "#first row of array \n",
    "xu_zero_by_zero_element = ((X[0,0] * U[0,0])+(X[0,1] * U[1,0])+(X[0,2]*U[2,0]))\n",
    "\n",
    "xu_zero_by_one_element = ((X[0,0] * U[0,1])+(X[0,1] * U[1,1])+(X[0,2]*U[2,1]))\n",
    "\n",
    "xu_zero_by_two_element = ((X[0,0] * U[0,2])+(X[0,1] * U[1,2])+(X[0,2]*U[2,2]))\n",
    "\n",
    "\n",
    "#second row of array \n",
    "xu_one_by_zero_element = ((X[1,0] * U[0,0])+(X[1,1] * U[1,0])+(X[1,2]*U[2,0]))\n",
    "\n",
    "xu_one_by_one_element = ((X[1,0] * U[0,1])+(X[1,1] * U[1,1])+(X[1,2]*U[2,1]))\n",
    "\n",
    "xu_one_by_two_element = ((X[1,0] * U[0,2])+(X[1,1] * U[1,2])+(X[1,2]*U[2,2]))\n",
    "\n",
    "\n",
    "#third row of array\n",
    "xu_two_by_zero_element = ((X[2,0] * U[0,0])+(X[2,1] * U[1,0])+(X[2,2]*U[2,0]))\n",
    "\n",
    "xu_two_by_one_element = ((X[2,0] * U[0,1])+(X[2,1] * U[1,1])+(X[2,2]*U[2,1]))\n",
    "\n",
    "xu_two_by_two_element = ((X[2,0] * U[0,2])+(X[2,1] * U[1,2])+(X[2,2]*U[2,2]))\n",
    "\n",
    "\n",
    "print(f'The product of X and I are:\\n [{[xu_zero_by_zero_element, xu_zero_by_one_element, xu_zero_by_two_element]},\\n {[xu_one_by_zero_element, xu_one_by_one_element, xu_one_by_two_element]},\\n {[xu_two_by_zero_element, xu_two_by_one_element, xu_two_by_two_element]}]')"
   ]
  },
  {
   "cell_type": "code",
   "execution_count": 45,
   "metadata": {},
   "outputs": [
    {
     "data": {
      "text/plain": [
       "array([[9., 3., 7.],\n",
       "       [4., 8., 1.],\n",
       "       [4., 6., 3.]])"
      ]
     },
     "execution_count": 45,
     "metadata": {},
     "output_type": "execute_result"
    }
   ],
   "source": [
    "X @ np.eye(3)"
   ]
  },
  {
   "cell_type": "code",
   "execution_count": 46,
   "metadata": {},
   "outputs": [
    {
     "data": {
      "text/plain": [
       "array([[ True,  True,  True],\n",
       "       [ True,  True,  True],\n",
       "       [ True,  True,  True]])"
      ]
     },
     "execution_count": 46,
     "metadata": {},
     "output_type": "execute_result"
    }
   ],
   "source": [
    "X @ np.eye(3) == X"
   ]
  },
  {
   "cell_type": "markdown",
   "metadata": {},
   "source": [
    "#### Property 6.  $A\\cdot \\emptyset = \\emptyset$ "
   ]
  },
  {
   "cell_type": "code",
   "execution_count": 50,
   "metadata": {},
   "outputs": [
    {
     "name": "stdout",
     "output_type": "stream",
     "text": [
      "[[0. 0. 0.]\n",
      " [0. 0. 0.]\n",
      " [0. 0. 0.]]\n"
     ]
    }
   ],
   "source": [
    "null_matrix = O\n",
    "O = np.zeros((3,3))\n",
    "print(O)"
   ]
  },
  {
   "cell_type": "code",
   "execution_count": 52,
   "metadata": {},
   "outputs": [
    {
     "name": "stdout",
     "output_type": "stream",
     "text": [
      "The product of Z and Null Matrix are:\n",
      " [[0.0, 0.0, 0.0],\n",
      " [0.0, 0.0, 0.0],\n",
      " [0.0, 0.0, 0.0]]\n"
     ]
    }
   ],
   "source": [
    "#For Z at Null Matrix (O)\n",
    "\n",
    "#first row of array \n",
    "zo_zero_by_zero_element = ((Z[0,0] * O[0,0])+(Z[0,1] * O[1,0])+(Z[0,2]*O[2,0]))\n",
    "\n",
    "zo_zero_by_one_element = ((Z[0,0] * O[0,1])+(Z[0,1] * O[1,1])+(Z[0,2]*O[2,1]))\n",
    "\n",
    "zo_zero_by_two_element = ((Z[0,0] * O[0,2])+(Z[0,1] * O[1,2])+(Z[0,2]*O[2,2]))\n",
    "\n",
    "\n",
    "#second row of array \n",
    "zo_one_by_zero_element = ((Z[1,0] * O[0,0])+(Z[1,1] * O[1,0])+(Z[1,2]*O[2,0]))\n",
    "\n",
    "zo_one_by_one_element = ((Z[1,0] * O[0,1])+(Z[1,1] * O[1,1])+(Z[1,2]*O[2,1]))\n",
    "\n",
    "zo_one_by_two_element = ((Z[1,0] * O[0,2])+(Z[1,1] * O[1,2])+(Z[1,2]*O[2,2]))\n",
    "\n",
    "\n",
    "#third row of array\n",
    "zo_two_by_zero_element = ((Z[2,0] * O[0,0])+(Z[2,1] * O[1,0])+(Z[2,2]*O[2,0]))\n",
    "\n",
    "zo_two_by_one_element = ((Z[2,0] * O[0,1])+(Z[2,1] * O[1,1])+(Z[2,2]*O[2,1]))\n",
    "\n",
    "zo_two_by_two_element = ((Z[2,0] * O[0,2])+(Z[2,1] * O[1,2])+(Z[2,2]*O[2,2]))\n",
    "\n",
    "\n",
    "print(f'The product of Z and Null Matrix are:\\n [{[zo_zero_by_zero_element, zo_zero_by_one_element, zo_zero_by_two_element]},\\n {[zo_one_by_zero_element, zo_one_by_one_element, zo_one_by_two_element]},\\n {[zo_two_by_zero_element, zo_two_by_one_element, zo_two_by_two_element]}]')"
   ]
  },
  {
   "cell_type": "code",
   "execution_count": 54,
   "metadata": {},
   "outputs": [
    {
     "data": {
      "text/plain": [
       "array([[0., 0., 0.],\n",
       "       [0., 0., 0.],\n",
       "       [0., 0., 0.]])"
      ]
     },
     "execution_count": 54,
     "metadata": {},
     "output_type": "execute_result"
    }
   ],
   "source": [
    "Z @ O"
   ]
  },
  {
   "cell_type": "code",
   "execution_count": 53,
   "metadata": {},
   "outputs": [
    {
     "data": {
      "text/plain": [
       "array([[ True,  True,  True],\n",
       "       [ True,  True,  True],\n",
       "       [ True,  True,  True]])"
      ]
     },
     "execution_count": 53,
     "metadata": {},
     "output_type": "execute_result"
    }
   ],
   "source": [
    "Z @ O == O"
   ]
  },
  {
   "cell_type": "markdown",
   "metadata": {},
   "source": [
    "## Conclusion"
   ]
  },
  {
   "cell_type": "markdown",
   "metadata": {},
   "source": [
    "For your conclusion synthesize the concept and application of the laboratory. Briefly discuss what you have learned and achieved in this activity. Also answer the question: \"how can matrix operations solve problems in healthcare?\". \n",
    "\n",
    "In this lab activity, I familiarized the important concepts of matrix operations that are commonly used in Machine Learning. It is easier to do by inputting the matrix operations in Python scripts rather than computing it manually. It well explained the specific operations of each matrix operations given above and it made a sense of of the practical implementation of the matrix operation using Python and Jupyter Notebook. I conclude that, I achieved the interpretation of this lab activity and I performed it well. Hopefully, I found them helpful to gain a better understanding of the concept of matrix operations. \n",
    "\n",
    "In real-world data and solving problems when it comes in healthcare, it must be precise and accurate the output to get the absolute answer in order to find the possible solutions like for example of this pandemic. With the help of matrix operations, it is time-saving and computes efficiently wherever how big data it is."
   ]
  }
 ],
 "metadata": {
  "kernelspec": {
   "display_name": "Python 3",
   "language": "python",
   "name": "python3"
  },
  "language_info": {
   "codemirror_mode": {
    "name": "ipython",
    "version": 3
   },
   "file_extension": ".py",
   "mimetype": "text/x-python",
   "name": "python",
   "nbconvert_exporter": "python",
   "pygments_lexer": "ipython3",
   "version": "3.8.3"
  }
 },
 "nbformat": 4,
 "nbformat_minor": 4
}
